{
 "cells": [
  {
   "cell_type": "markdown",
   "id": "41faabf2-bad9-48e5-807e-6964e5d53f1f",
   "metadata": {},
   "source": [
    "# Automated-Face-Blurring Using Mediapipe"
   ]
  },
  {
   "cell_type": "code",
   "execution_count": 1,
   "id": "feb17312",
   "metadata": {},
   "outputs": [],
   "source": [
    "import cv2\n",
    "import mediapipe as mp"
   ]
  },
  {
   "cell_type": "code",
   "execution_count": 3,
   "id": "e888baae",
   "metadata": {},
   "outputs": [],
   "source": [
    "# function for processing the frames\n",
    "def process_img(frame, face_detection):\n",
    "    # Convert the image to RGB\n",
    "    rgb_frame = cv2.cvtColor(frame, cv2.COLOR_BGR2RGB)\n",
    "    \n",
    "    # Process the image using MediaPipe face detection\n",
    "    results = face_detection.process(rgb_frame)\n",
    "    \n",
    "    if results.detections:\n",
    "        for detection in results.detections:\n",
    "            bboxC = detection.location_data.relative_bounding_box\n",
    "            ih, iw, _ = frame.shape\n",
    "            xmin, ymin, width, height = int(bboxC.xmin * iw), int(bboxC.ymin * ih), \\\n",
    "                         int(bboxC.width * iw), int(bboxC.height * ih)\n",
    "            xmax, ymax = xmin + width, ymin + height\n",
    "            \n",
    "            # Drawing bounding box around the face and blurring it.\n",
    "            cv2.rectangle(frame, (xmin, ymin), (xmax, ymax), (0, 255, 0), 2)\n",
    "            face_img = frame[ymin:ymax, xmin:xmax]\n",
    "            \n",
    "            blurred_face = cv2.blur(face_img, (30, 30))\n",
    "            frame[ymin:ymax, xmin:xmax] = blurred_face\n",
    "            \n",
    "            \n",
    "    return frame"
   ]
  },
  {
   "cell_type": "code",
   "execution_count": 5,
   "id": "a7b99f42",
   "metadata": {},
   "outputs": [
    {
     "name": "stderr",
     "output_type": "stream",
     "text": [
      "C:\\Users\\kbtha\\anaconda3\\Lib\\site-packages\\google\\protobuf\\symbol_database.py:55: UserWarning: SymbolDatabase.GetPrototype() is deprecated. Please use message_factory.GetMessageClass() instead. SymbolDatabase.GetPrototype() will be removed soon.\n",
      "  warnings.warn('SymbolDatabase.GetPrototype() is deprecated. Please '\n"
     ]
    },
    {
     "ename": "error",
     "evalue": "OpenCV(4.10.0) D:\\a\\opencv-python\\opencv-python\\opencv\\modules\\highgui\\src\\window.cpp:1301: error: (-2:Unspecified error) The function is not implemented. Rebuild the library with Windows, GTK+ 2.x or Cocoa support. If you are on Ubuntu or Debian, install libgtk2.0-dev and pkg-config, then re-run cmake or configure script in function 'cvShowImage'\n",
     "output_type": "error",
     "traceback": [
      "\u001b[1;31m---------------------------------------------------------------------------\u001b[0m",
      "\u001b[1;31merror\u001b[0m                                     Traceback (most recent call last)",
      "Cell \u001b[1;32mIn[5], line 20\u001b[0m\n\u001b[0;32m     17\u001b[0m processed_frame \u001b[38;5;241m=\u001b[39m process_img(frame, face_detection)\n\u001b[0;32m     18\u001b[0m writer\u001b[38;5;241m.\u001b[39mwrite(processed_frame)\n\u001b[1;32m---> 20\u001b[0m cv2\u001b[38;5;241m.\u001b[39mimshow(\u001b[38;5;124m\"\u001b[39m\u001b[38;5;124mMediapipe Feed\u001b[39m\u001b[38;5;124m\"\u001b[39m,processed_frame)\n\u001b[0;32m     21\u001b[0m \u001b[38;5;28;01mif\u001b[39;00m cv2\u001b[38;5;241m.\u001b[39mwaitKey(\u001b[38;5;241m10\u001b[39m) \u001b[38;5;241m&\u001b[39m \u001b[38;5;241m0xFF\u001b[39m \u001b[38;5;241m==\u001b[39m \u001b[38;5;28mord\u001b[39m(\u001b[38;5;124m\"\u001b[39m\u001b[38;5;124mq\u001b[39m\u001b[38;5;124m\"\u001b[39m):\n\u001b[0;32m     22\u001b[0m     \u001b[38;5;28;01mbreak\u001b[39;00m\n",
      "\u001b[1;31merror\u001b[0m: OpenCV(4.10.0) D:\\a\\opencv-python\\opencv-python\\opencv\\modules\\highgui\\src\\window.cpp:1301: error: (-2:Unspecified error) The function is not implemented. Rebuild the library with Windows, GTK+ 2.x or Cocoa support. If you are on Ubuntu or Debian, install libgtk2.0-dev and pkg-config, then re-run cmake or configure script in function 'cvShowImage'\n"
     ]
    }
   ],
   "source": [
    "cap = cv2.VideoCapture(\"people_video_1.mp4\")\n",
    "\n",
    "width = int(cap.get(cv2.CAP_PROP_FRAME_WIDTH))\n",
    "height = int(cap.get(cv2.CAP_PROP_FRAME_HEIGHT))\n",
    "writer = cv2.VideoWriter('Output_mediapipe.mp4',cv2.VideoWriter_fourcc(*'DIVX'),25,(width,height))\n",
    "\n",
    "mp_drawing = mp.solutions.drawing_utils\n",
    "mp_face_detection = mp.solutions.face_detection\n",
    "\n",
    "#In model_selection use 0 for short-range model and 1 for full-range model\n",
    "with mp_face_detection.FaceDetection(min_detection_confidence=0.5, model_selection=1) as face_detection:\n",
    "    while cap.isOpened():\n",
    "        ret, frame = cap.read()\n",
    "        if not ret:\n",
    "            break\n",
    "\n",
    "        processed_frame = process_img(frame, face_detection)\n",
    "        writer.write(processed_frame)\n",
    "        \n",
    "        cv2.imshow(\"Mediapipe Feed\",processed_frame)\n",
    "        if cv2.waitKey(10) & 0xFF == ord(\"q\"):\n",
    "            break\n",
    "\n",
    "    cap.release()\n",
    "    writer.release()\n",
    "    cv2.destroyAllWindows()"
   ]
  },
  {
   "cell_type": "code",
   "execution_count": null,
   "id": "d5fb3186-eba3-4de4-9405-1922dca7b49e",
   "metadata": {},
   "outputs": [],
   "source": []
  }
 ],
 "metadata": {
  "kernelspec": {
   "display_name": "Python 3 (ipykernel)",
   "language": "python",
   "name": "python3"
  },
  "language_info": {
   "codemirror_mode": {
    "name": "ipython",
    "version": 3
   },
   "file_extension": ".py",
   "mimetype": "text/x-python",
   "name": "python",
   "nbconvert_exporter": "python",
   "pygments_lexer": "ipython3",
   "version": "3.12.4"
  }
 },
 "nbformat": 4,
 "nbformat_minor": 5
}
